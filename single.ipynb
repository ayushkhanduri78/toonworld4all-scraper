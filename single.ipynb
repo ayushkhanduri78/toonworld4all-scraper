{
  "nbformat": 4,
  "nbformat_minor": 0,
  "metadata": {
    "colab": {
      "provenance": [],
      "authorship_tag": "ABX9TyOTCC5i148N6G/uuupwVr0+",
      "include_colab_link": true
    },
    "kernelspec": {
      "name": "python3",
      "display_name": "Python 3"
    },
    "language_info": {
      "name": "python"
    }
  },
  "cells": [
    {
      "cell_type": "markdown",
      "metadata": {
        "id": "view-in-github",
        "colab_type": "text"
      },
      "source": [
        "<a href=\"https://colab.research.google.com/github/JohnWickKeanue/toonworld4all-scraper/blob/main/single.ipynb\" target=\"_parent\"><img src=\"https://colab.research.google.com/assets/colab-badge.svg\" alt=\"Open In Colab\"/></a>"
      ]
    },
    {
      "cell_type": "code",
      "execution_count": null,
      "metadata": {
        "id": "AulyXNUGrd5B"
      },
      "outputs": [],
      "source": [
        "\n",
        "import time\n",
        "from bs4 import BeautifulSoup\n",
        "import requests\n",
        "from requests import get\n",
        "url = \"https://toonworld4all.me/the-legend-of-vox-machina-season-1-episodes-hindi/"#@param\n",
        "\n",
        "def flix(url):\n",
        "      client = requests.session()\n",
        "      download = get(url, stream=True, allow_redirects=False)\n",
        "      v = download.headers[\"location\"]\n",
        "      DOMAIN = \"https://share.techymedies.com\"\n",
        "      code = v.split(\"/\")[-1]\n",
        "      final_url = f\"{DOMAIN}/{code}\"\n",
        "      ref = \"https://disheye.com/\"\n",
        "      h = {\"referer\": ref}\n",
        "      resp = client.get(final_url, headers=h)\n",
        "      soup = BeautifulSoup(resp.content, \"html.parser\")\n",
        "      inputs = soup.find(id=\"go-link\").find_all(name=\"input\")\n",
        "      data = { input.get('name'): input.get('value') for input in inputs }\n",
        "      h = { \"x-requested-with\": \"XMLHttpRequest\" }\n",
        "      time.sleep(5)\n",
        "      r = client.post(f\"{DOMAIN}/links/go\", data=data, headers=h)\n",
        "      return r.json()['url']\n",
        "                     \n",
        "print(flix(url))"
      ]
    }
  ]
}
